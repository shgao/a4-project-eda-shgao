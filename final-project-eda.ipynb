{
 "cells": [
  {
   "cell_type": "markdown",
   "metadata": {},
   "source": [
    "## Set Up"
   ]
  },
  {
   "cell_type": "code",
   "execution_count": 39,
   "metadata": {
    "collapsed": false
   },
   "outputs": [],
   "source": [
    "# Read in dat\n",
    "import ggplot\n",
    "import matplotlib.pyplot as plt\n",
    "from matplotlib import cm\n",
    "import numpy as np\n",
    "import pandas as pd\n",
    "import seaborn as sns # for visualiation\n",
    "from scipy.stats import ttest_ind # t-tests\n",
    "import statsmodels.formula.api as smf # linear modeling\n",
    "import statsmodels.api as sm\n",
    "import matplotlib\n",
    "from sklearn import metrics\n",
    "matplotlib.style.use('ggplot')\n",
    "%matplotlib inline\n",
    "\n",
    "data = pd.read_csv('~/top5europe.csv')\n",
    "df = data\n",
    "#import the module so that we can tables when printing dataframes\n",
    "from IPython.display import display, HTML\n",
    "pd.options.mode.chained_assignment = None"
   ]
  },
  {
   "cell_type": "markdown",
   "metadata": {},
   "source": [
    "## Data Preparation\n",
    "\n",
    "Mapped out the countries in Europe with the five highest life expectancies (Switzerland, Spain, Italy, Iceland, France) to have a corresponding number (1, 2, 3, 4, 5 respectively) based on their rank.  Removed the one outlier ridiculously high rate."
   ]
  },
  {
   "cell_type": "code",
   "execution_count": 40,
   "metadata": {
    "collapsed": false
   },
   "outputs": [
    {
     "data": {
      "text/html": [
       "<div>\n",
       "<table border=\"1\" class=\"dataframe\">\n",
       "  <thead>\n",
       "    <tr style=\"text-align: right;\">\n",
       "      <th></th>\n",
       "      <th>measure_id</th>\n",
       "      <th>measure_name</th>\n",
       "      <th>location_id</th>\n",
       "      <th>location_name</th>\n",
       "      <th>sex_id</th>\n",
       "      <th>sex_name</th>\n",
       "      <th>age_id</th>\n",
       "      <th>age_name</th>\n",
       "      <th>cause_id</th>\n",
       "      <th>cause_name</th>\n",
       "      <th>rei_id</th>\n",
       "      <th>rei_name</th>\n",
       "      <th>metric_id</th>\n",
       "      <th>metric_name</th>\n",
       "      <th>year</th>\n",
       "      <th>val</th>\n",
       "      <th>upper</th>\n",
       "      <th>lower</th>\n",
       "    </tr>\n",
       "  </thead>\n",
       "  <tbody>\n",
       "    <tr>\n",
       "      <th>0</th>\n",
       "      <td>1</td>\n",
       "      <td>Deaths</td>\n",
       "      <td>83</td>\n",
       "      <td>4</td>\n",
       "      <td>1</td>\n",
       "      <td>Male</td>\n",
       "      <td>26</td>\n",
       "      <td>70+ years</td>\n",
       "      <td>526</td>\n",
       "      <td>Digestive diseases</td>\n",
       "      <td>169</td>\n",
       "      <td>All risk factors</td>\n",
       "      <td>3</td>\n",
       "      <td>Rate</td>\n",
       "      <td>2015</td>\n",
       "      <td>1.959772</td>\n",
       "      <td>2.896562</td>\n",
       "      <td>1.291545</td>\n",
       "    </tr>\n",
       "    <tr>\n",
       "      <th>1</th>\n",
       "      <td>1</td>\n",
       "      <td>Deaths</td>\n",
       "      <td>83</td>\n",
       "      <td>4</td>\n",
       "      <td>1</td>\n",
       "      <td>Male</td>\n",
       "      <td>26</td>\n",
       "      <td>70+ years</td>\n",
       "      <td>586</td>\n",
       "      <td>Diabetes, urogenital, blood, and endocrine dis...</td>\n",
       "      <td>110</td>\n",
       "      <td>Dietary risks</td>\n",
       "      <td>3</td>\n",
       "      <td>Rate</td>\n",
       "      <td>2015</td>\n",
       "      <td>25.228970</td>\n",
       "      <td>35.348261</td>\n",
       "      <td>16.803548</td>\n",
       "    </tr>\n",
       "    <tr>\n",
       "      <th>2</th>\n",
       "      <td>1</td>\n",
       "      <td>Deaths</td>\n",
       "      <td>83</td>\n",
       "      <td>4</td>\n",
       "      <td>1</td>\n",
       "      <td>Male</td>\n",
       "      <td>26</td>\n",
       "      <td>70+ years</td>\n",
       "      <td>586</td>\n",
       "      <td>Diabetes, urogenital, blood, and endocrine dis...</td>\n",
       "      <td>111</td>\n",
       "      <td>Diet low in fruits</td>\n",
       "      <td>3</td>\n",
       "      <td>Rate</td>\n",
       "      <td>2015</td>\n",
       "      <td>3.876016</td>\n",
       "      <td>7.638902</td>\n",
       "      <td>0.784222</td>\n",
       "    </tr>\n",
       "    <tr>\n",
       "      <th>3</th>\n",
       "      <td>1</td>\n",
       "      <td>Deaths</td>\n",
       "      <td>83</td>\n",
       "      <td>4</td>\n",
       "      <td>1</td>\n",
       "      <td>Male</td>\n",
       "      <td>26</td>\n",
       "      <td>70+ years</td>\n",
       "      <td>586</td>\n",
       "      <td>Diabetes, urogenital, blood, and endocrine dis...</td>\n",
       "      <td>113</td>\n",
       "      <td>Diet low in whole grains</td>\n",
       "      <td>3</td>\n",
       "      <td>Rate</td>\n",
       "      <td>2015</td>\n",
       "      <td>4.596448</td>\n",
       "      <td>8.001574</td>\n",
       "      <td>2.265042</td>\n",
       "    </tr>\n",
       "    <tr>\n",
       "      <th>4</th>\n",
       "      <td>1</td>\n",
       "      <td>Deaths</td>\n",
       "      <td>83</td>\n",
       "      <td>4</td>\n",
       "      <td>1</td>\n",
       "      <td>Male</td>\n",
       "      <td>26</td>\n",
       "      <td>70+ years</td>\n",
       "      <td>586</td>\n",
       "      <td>Diabetes, urogenital, blood, and endocrine dis...</td>\n",
       "      <td>114</td>\n",
       "      <td>Diet low in nuts and seeds</td>\n",
       "      <td>3</td>\n",
       "      <td>Rate</td>\n",
       "      <td>2015</td>\n",
       "      <td>4.988863</td>\n",
       "      <td>7.972121</td>\n",
       "      <td>2.411347</td>\n",
       "    </tr>\n",
       "  </tbody>\n",
       "</table>\n",
       "</div>"
      ],
      "text/plain": [
       "   measure_id measure_name  location_id  location_name  sex_id sex_name  \\\n",
       "0           1       Deaths           83              4       1     Male   \n",
       "1           1       Deaths           83              4       1     Male   \n",
       "2           1       Deaths           83              4       1     Male   \n",
       "3           1       Deaths           83              4       1     Male   \n",
       "4           1       Deaths           83              4       1     Male   \n",
       "\n",
       "   age_id   age_name  cause_id  \\\n",
       "0      26  70+ years       526   \n",
       "1      26  70+ years       586   \n",
       "2      26  70+ years       586   \n",
       "3      26  70+ years       586   \n",
       "4      26  70+ years       586   \n",
       "\n",
       "                                          cause_name  rei_id  \\\n",
       "0                                 Digestive diseases     169   \n",
       "1  Diabetes, urogenital, blood, and endocrine dis...     110   \n",
       "2  Diabetes, urogenital, blood, and endocrine dis...     111   \n",
       "3  Diabetes, urogenital, blood, and endocrine dis...     113   \n",
       "4  Diabetes, urogenital, blood, and endocrine dis...     114   \n",
       "\n",
       "                     rei_name  metric_id metric_name  year        val  \\\n",
       "0            All risk factors          3        Rate  2015   1.959772   \n",
       "1               Dietary risks          3        Rate  2015  25.228970   \n",
       "2          Diet low in fruits          3        Rate  2015   3.876016   \n",
       "3    Diet low in whole grains          3        Rate  2015   4.596448   \n",
       "4  Diet low in nuts and seeds          3        Rate  2015   4.988863   \n",
       "\n",
       "       upper      lower  \n",
       "0   2.896562   1.291545  \n",
       "1  35.348261  16.803548  \n",
       "2   7.638902   0.784222  \n",
       "3   8.001574   2.265042  \n",
       "4   7.972121   2.411347  "
      ]
     },
     "execution_count": 40,
     "metadata": {},
     "output_type": "execute_result"
    }
   ],
   "source": [
    "df1 = df\n",
    "df1['location_name'] = df1['location_name'].map({'Switzerland': 1, 'Spain': 2, 'Italy': 3, 'Iceland': 4, 'France': 5})\n",
    "df1 = df1[df1.val < 50]\n",
    "df1.head()"
   ]
  },
  {
   "cell_type": "markdown",
   "metadata": {},
   "source": [
    "## Describing Data Structure"
   ]
  },
  {
   "cell_type": "code",
   "execution_count": 41,
   "metadata": {
    "collapsed": false
   },
   "outputs": [
    {
     "name": "stdout",
     "output_type": "stream",
     "text": [
      "Size: (731, 18)\n",
      "Variables: Location (str), Sex (str), Age (str), Cause of Death (str), Risk Factors (str), Average Rate (int)\n"
     ]
    }
   ],
   "source": [
    "shape = df1.shape\n",
    "print \"Size: %s\" % (shape,)\n",
    "print \"Variables: Location (str), Sex (str), Age (str), Cause of Death (str), Risk Factors (str), Average Rate (int)\""
   ]
  },
  {
   "cell_type": "markdown",
   "metadata": {},
   "source": [
    "## Univariate Analysis"
   ]
  },
  {
   "cell_type": "code",
   "execution_count": 42,
   "metadata": {
    "collapsed": false
   },
   "outputs": [
    {
     "data": {
      "text/html": [
       "<div>\n",
       "<table border=\"1\" class=\"dataframe\">\n",
       "  <thead>\n",
       "    <tr style=\"text-align: right;\">\n",
       "      <th></th>\n",
       "      <th>measure_id</th>\n",
       "      <th>location_id</th>\n",
       "      <th>location_name</th>\n",
       "      <th>sex_id</th>\n",
       "      <th>age_id</th>\n",
       "      <th>cause_id</th>\n",
       "      <th>rei_id</th>\n",
       "      <th>metric_id</th>\n",
       "      <th>year</th>\n",
       "      <th>val</th>\n",
       "      <th>upper</th>\n",
       "      <th>lower</th>\n",
       "    </tr>\n",
       "  </thead>\n",
       "  <tbody>\n",
       "    <tr>\n",
       "      <th>count</th>\n",
       "      <td>731.0</td>\n",
       "      <td>731.000000</td>\n",
       "      <td>731.000000</td>\n",
       "      <td>731.000000</td>\n",
       "      <td>731.000000</td>\n",
       "      <td>731.000000</td>\n",
       "      <td>731.000000</td>\n",
       "      <td>731.0</td>\n",
       "      <td>731.0</td>\n",
       "      <td>731.000000</td>\n",
       "      <td>731.000000</td>\n",
       "      <td>731.000000</td>\n",
       "    </tr>\n",
       "    <tr>\n",
       "      <th>mean</th>\n",
       "      <td>1.0</td>\n",
       "      <td>87.012312</td>\n",
       "      <td>2.997264</td>\n",
       "      <td>1.510260</td>\n",
       "      <td>23.775650</td>\n",
       "      <td>419.663475</td>\n",
       "      <td>127.180575</td>\n",
       "      <td>3.0</td>\n",
       "      <td>2015.0</td>\n",
       "      <td>5.454289</td>\n",
       "      <td>8.731446</td>\n",
       "      <td>2.846727</td>\n",
       "    </tr>\n",
       "    <tr>\n",
       "      <th>std</th>\n",
       "      <td>0.0</td>\n",
       "      <td>5.307902</td>\n",
       "      <td>1.419046</td>\n",
       "      <td>0.500237</td>\n",
       "      <td>4.786283</td>\n",
       "      <td>138.198156</td>\n",
       "      <td>21.332853</td>\n",
       "      <td>0.0</td>\n",
       "      <td>0.0</td>\n",
       "      <td>9.567248</td>\n",
       "      <td>15.070789</td>\n",
       "      <td>5.767767</td>\n",
       "    </tr>\n",
       "    <tr>\n",
       "      <th>min</th>\n",
       "      <td>1.0</td>\n",
       "      <td>80.000000</td>\n",
       "      <td>1.000000</td>\n",
       "      <td>1.000000</td>\n",
       "      <td>1.000000</td>\n",
       "      <td>294.000000</td>\n",
       "      <td>110.000000</td>\n",
       "      <td>3.0</td>\n",
       "      <td>2015.0</td>\n",
       "      <td>0.000004</td>\n",
       "      <td>0.000036</td>\n",
       "      <td>0.000000</td>\n",
       "    </tr>\n",
       "    <tr>\n",
       "      <th>25%</th>\n",
       "      <td>1.0</td>\n",
       "      <td>83.000000</td>\n",
       "      <td>2.000000</td>\n",
       "      <td>1.000000</td>\n",
       "      <td>24.000000</td>\n",
       "      <td>294.000000</td>\n",
       "      <td>114.000000</td>\n",
       "      <td>3.0</td>\n",
       "      <td>2015.0</td>\n",
       "      <td>0.157573</td>\n",
       "      <td>0.259155</td>\n",
       "      <td>0.067334</td>\n",
       "    </tr>\n",
       "    <tr>\n",
       "      <th>50%</th>\n",
       "      <td>1.0</td>\n",
       "      <td>86.000000</td>\n",
       "      <td>3.000000</td>\n",
       "      <td>2.000000</td>\n",
       "      <td>25.000000</td>\n",
       "      <td>294.000000</td>\n",
       "      <td>118.000000</td>\n",
       "      <td>3.0</td>\n",
       "      <td>2015.0</td>\n",
       "      <td>1.040344</td>\n",
       "      <td>1.749419</td>\n",
       "      <td>0.439343</td>\n",
       "    </tr>\n",
       "    <tr>\n",
       "      <th>75%</th>\n",
       "      <td>1.0</td>\n",
       "      <td>92.000000</td>\n",
       "      <td>4.000000</td>\n",
       "      <td>2.000000</td>\n",
       "      <td>25.000000</td>\n",
       "      <td>586.000000</td>\n",
       "      <td>124.000000</td>\n",
       "      <td>3.0</td>\n",
       "      <td>2015.0</td>\n",
       "      <td>5.942234</td>\n",
       "      <td>9.822360</td>\n",
       "      <td>2.388055</td>\n",
       "    </tr>\n",
       "    <tr>\n",
       "      <th>max</th>\n",
       "      <td>1.0</td>\n",
       "      <td>94.000000</td>\n",
       "      <td>5.000000</td>\n",
       "      <td>2.000000</td>\n",
       "      <td>26.000000</td>\n",
       "      <td>586.000000</td>\n",
       "      <td>169.000000</td>\n",
       "      <td>3.0</td>\n",
       "      <td>2015.0</td>\n",
       "      <td>49.584470</td>\n",
       "      <td>81.144145</td>\n",
       "      <td>43.794091</td>\n",
       "    </tr>\n",
       "  </tbody>\n",
       "</table>\n",
       "</div>"
      ],
      "text/plain": [
       "       measure_id  location_id  location_name      sex_id      age_id  \\\n",
       "count       731.0   731.000000     731.000000  731.000000  731.000000   \n",
       "mean          1.0    87.012312       2.997264    1.510260   23.775650   \n",
       "std           0.0     5.307902       1.419046    0.500237    4.786283   \n",
       "min           1.0    80.000000       1.000000    1.000000    1.000000   \n",
       "25%           1.0    83.000000       2.000000    1.000000   24.000000   \n",
       "50%           1.0    86.000000       3.000000    2.000000   25.000000   \n",
       "75%           1.0    92.000000       4.000000    2.000000   25.000000   \n",
       "max           1.0    94.000000       5.000000    2.000000   26.000000   \n",
       "\n",
       "         cause_id      rei_id  metric_id    year         val       upper  \\\n",
       "count  731.000000  731.000000      731.0   731.0  731.000000  731.000000   \n",
       "mean   419.663475  127.180575        3.0  2015.0    5.454289    8.731446   \n",
       "std    138.198156   21.332853        0.0     0.0    9.567248   15.070789   \n",
       "min    294.000000  110.000000        3.0  2015.0    0.000004    0.000036   \n",
       "25%    294.000000  114.000000        3.0  2015.0    0.157573    0.259155   \n",
       "50%    294.000000  118.000000        3.0  2015.0    1.040344    1.749419   \n",
       "75%    586.000000  124.000000        3.0  2015.0    5.942234    9.822360   \n",
       "max    586.000000  169.000000        3.0  2015.0   49.584470   81.144145   \n",
       "\n",
       "            lower  \n",
       "count  731.000000  \n",
       "mean     2.846727  \n",
       "std      5.767767  \n",
       "min      0.000000  \n",
       "25%      0.067334  \n",
       "50%      0.439343  \n",
       "75%      2.388055  \n",
       "max     43.794091  "
      ]
     },
     "execution_count": 42,
     "metadata": {},
     "output_type": "execute_result"
    }
   ],
   "source": [
    "df1.describe()"
   ]
  },
  {
   "cell_type": "markdown",
   "metadata": {},
   "source": [
    "## Univariate Analysis by Category"
   ]
  },
  {
   "cell_type": "code",
   "execution_count": 43,
   "metadata": {
    "collapsed": false
   },
   "outputs": [
    {
     "data": {
      "text/plain": [
       "array([[<matplotlib.axes._subplots.AxesSubplot object at 0x7fbb1fde1cd0>,\n",
       "        <matplotlib.axes._subplots.AxesSubplot object at 0x7fbb1fcfd3d0>],\n",
       "       [<matplotlib.axes._subplots.AxesSubplot object at 0x7fbb1fd0fdd0>,\n",
       "        <matplotlib.axes._subplots.AxesSubplot object at 0x7fbb1faa4790>],\n",
       "       [<matplotlib.axes._subplots.AxesSubplot object at 0x7fbb1fa26910>,\n",
       "        <matplotlib.axes._subplots.AxesSubplot object at 0x7fbb1fa08910>]], dtype=object)"
      ]
     },
     "execution_count": 43,
     "metadata": {},
     "output_type": "execute_result"
    },
    {
     "data": {
      "image/png": "[encoded data removed]",
      "text/plain": [
       "<matplotlib.figure.Figure at 0x7fbb208f2bd0>"
      ]
     },
     "metadata": {},
     "output_type": "display_data"
    }
   ],
   "source": [
    "#ax = df1['val'].plot(kind='bar', title =\"V comp\", figsize=(15, 10), legend=True, fontsize=12)\n",
    "#ax.set_xlabel(\"Hour\", fontsize=12)\n",
    "#ax.set_ylabel(\"V\", fontsize=12)\n",
    "#plt.show()\n",
    "\n",
    "df1['val'].hist(by=df1['location_name'], sharex=True, figsize=(20,10))"
   ]
  },
  {
   "cell_type": "markdown",
   "metadata": {},
   "source": [
    "## Bivariate analysis"
   ]
  },
  {
   "cell_type": "code",
   "execution_count": 45,
   "metadata": {
    "collapsed": false
   },
   "outputs": [],
   "source": [
    "lm = smf.glm(formula = 'location_name ~ val', data=df1, family=sm.families.Poisson()).fit()\n",
    "df1['lm'] = lm.predict()"
   ]
  },
  {
   "cell_type": "code",
   "execution_count": 46,
   "metadata": {
    "collapsed": false
   },
   "outputs": [
    {
     "data": {
      "text/html": [
       "<table class=\"simpletable\">\n",
       "<caption>Generalized Linear Model Regression Results</caption>\n",
       "<tr>\n",
       "  <th>Dep. Variable:</th>    <td>location_name</td>  <th>  No. Observations:  </th>  <td>   731</td> \n",
       "</tr>\n",
       "<tr>\n",
       "  <th>Model:</th>                 <td>GLM</td>       <th>  Df Residuals:      </th>  <td>   729</td> \n",
       "</tr>\n",
       "<tr>\n",
       "  <th>Model Family:</th>        <td>Poisson</td>     <th>  Df Model:          </th>  <td>     1</td> \n",
       "</tr>\n",
       "<tr>\n",
       "  <th>Link Function:</th>         <td>log</td>       <th>  Scale:             </th>    <td>1.0</td>  \n",
       "</tr>\n",
       "<tr>\n",
       "  <th>Method:</th>               <td>IRLS</td>       <th>  Log-Likelihood:    </th> <td> -1312.6</td>\n",
       "</tr>\n",
       "<tr>\n",
       "  <th>Date:</th>           <td>Fri, 03 Mar 2017</td> <th>  Deviance:          </th> <td>  528.25</td>\n",
       "</tr>\n",
       "<tr>\n",
       "  <th>Time:</th>               <td>09:04:46</td>     <th>  Pearson chi2:      </th>  <td>  490.</td> \n",
       "</tr>\n",
       "<tr>\n",
       "  <th>No. Iterations:</th>         <td>7</td>        <th>                     </th>     <td> </td>   \n",
       "</tr>\n",
       "</table>\n",
       "<table class=\"simpletable\">\n",
       "<tr>\n",
       "      <td></td>         <th>coef</th>     <th>std err</th>      <th>z</th>      <th>P>|z|</th> <th>[95.0% Conf. Int.]</th> \n",
       "</tr>\n",
       "<tr>\n",
       "  <th>Intercept</th> <td>    1.1029</td> <td>    0.025</td> <td>   44.895</td> <td> 0.000</td> <td>    1.055     1.151</td>\n",
       "</tr>\n",
       "<tr>\n",
       "  <th>val</th>       <td>   -0.0010</td> <td>    0.002</td> <td>   -0.429</td> <td> 0.668</td> <td>   -0.005     0.003</td>\n",
       "</tr>\n",
       "</table>"
      ],
      "text/plain": [
       "<class 'statsmodels.iolib.summary.Summary'>\n",
       "\"\"\"\n",
       "                 Generalized Linear Model Regression Results                  \n",
       "==============================================================================\n",
       "Dep. Variable:          location_name   No. Observations:                  731\n",
       "Model:                            GLM   Df Residuals:                      729\n",
       "Model Family:                 Poisson   Df Model:                            1\n",
       "Link Function:                    log   Scale:                             1.0\n",
       "Method:                          IRLS   Log-Likelihood:                -1312.6\n",
       "Date:                Fri, 03 Mar 2017   Deviance:                       528.25\n",
       "Time:                        09:04:46   Pearson chi2:                     490.\n",
       "No. Iterations:                     7                                         \n",
       "==============================================================================\n",
       "                 coef    std err          z      P>|z|      [95.0% Conf. Int.]\n",
       "------------------------------------------------------------------------------\n",
       "Intercept      1.1029      0.025     44.895      0.000         1.055     1.151\n",
       "val           -0.0010      0.002     -0.429      0.668        -0.005     0.003\n",
       "==============================================================================\n",
       "\"\"\""
      ]
     },
     "execution_count": 46,
     "metadata": {},
     "output_type": "execute_result"
    }
   ],
   "source": [
    "lm.summary()"
   ]
  },
  {
   "cell_type": "code",
   "execution_count": 47,
   "metadata": {
    "collapsed": false
   },
   "outputs": [
    {
     "data": {
      "image/png": "[encoded data removed]",
      "text/plain": [
       "<matplotlib.figure.Figure at 0x7fbb1cf370d0>"
      ]
     },
     "metadata": {},
     "output_type": "display_data"
    }
   ],
   "source": [
    "fig, ax = plt.subplots(figsize=(10, 5))\n",
    "ax.scatter(df1.location_name, df1.val, c='red', label=\"Rate of causes of death\")\n",
    "ax.plot(df1.location_name, df1.lm, c='black', label=\"Logistic Fit\")\n",
    "ax.legend(numpoints=1, loc='upper left')\n",
    "ax.set_xlabel('Country')\n",
    "ax.set_ylabel('Rate of a person dying from a dietary reason')\n",
    "plt.show()"
   ]
  },
  {
   "cell_type": "markdown",
   "metadata": {},
   "source": [
    "## Summary of Insights\n",
    "\n",
    "We're trying to look if certain dietary restrictions or changes significantly affect a life expectancy.  I took the highest 5 life expectancies by country in Europe and took a look at their rates of deaths caused by different dietary means to see if it correlated with their corresponding life expectancy ranks.  In the univariate analysis, we can see that Iceland has higher rates of dietary related deaths than the other countries, but is still ranked higher than France.\n",
    "\n",
    "In my bivariate analysis where I ran a poisson regression, there doesn't seem to be any correlation between the dietary causes of deaths and the life expectancy.  However, it would be interesting to compare the highest life expectancy countries with the lowest life expectancy countries.  Or just countries that have more variation in living conditions compared to the five chosen in my report.  "
   ]
  },
  {
   "cell_type": "code",
   "execution_count": null,
   "metadata": {
    "collapsed": true
   },
   "outputs": [],
   "source": []
  }
 ],
 "metadata": {
  "kernelspec": {
   "display_name": "Python 2 (SageMath)",
   "language": "python",
   "name": "python2"
  },
  "language_info": {
   "codemirror_mode": {
    "name": "ipython",
    "version": 2
   },
   "file_extension": ".py",
   "mimetype": "text/x-python",
   "name": "python",
   "nbconvert_exporter": "python",
   "pygments_lexer": "ipython2",
   "version": "2.7.13"
  }
 },
 "nbformat": 4,
 "nbformat_minor": 0
}
